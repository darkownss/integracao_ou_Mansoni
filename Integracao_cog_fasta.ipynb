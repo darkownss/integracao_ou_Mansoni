# -*- coding: utf-8 -*-
"""
Created on Fri May  3 20:41:48 2024

@author: Jean
"""


import pandas as pd
import numpy as np
from io import StringIO
from Bio import SeqIO
from Bio.Seq import Seq

from Bio.SeqRecord import SeqRecord


df_cog =  pd.read_csv(r"C:\Users\Jean\Desktop\Periodo atual\IC\Entrega orthofinder\código\Etapa 2\cog-20.cog.csv",
            sep=",")

url_cog_fast = SeqIO.parse(open(r"C:\Users\Jean\Desktop\Periodo atual\IC\Entrega orthofinder\código\Etapa 2\cog-20.fa"),'fasta')



ortologos_universais = np.array((["COG0012",
"COG0016",
"COG0018",
"COG0048",
"COG0049",
"COG0052",
"COG0060",
"COG0080",
"COG0081",
"COG0085",
"COG0087",
"COG0091",
"COG0092",
"COG0093",
"COG0094",
"COG0096",
"COG0097",
"COG0098",
"COG0099",
"COG0100",
"COG0102",
"COG0103",
"COG0124",
"COG0143",
"COG0172",
"COG0184",
"COG0186",
"COG0197",
"COG0200",
"COG0201",
"COG0202",
"COG0256",
"COG0495",
"COG0522",
"COG0525",
"COG0533"]))

df_cog_ortologos_universais = pd.DataFrame()


for i,element in enumerate(ortologos_universais):
    data_temp = pd.DataFrame(df_cog[df_cog['COG_ID'] == element])
    df_cog_ortologos_universais = pd.concat([df_cog_ortologos_universais,data_temp])


df_cog_ortologos_universais['Protein_ID'] = df_cog_ortologos_universais['Protein_ID'].str.replace('.','_',regex=True)

data = []
for i in url_cog_fast:
    data.append({'Protein_ID':i.id, 'Sequencia':i.seq})
data_proteina = pd.DataFrame(data)

fun_20_tab = pd.read_table(r"C:\Users\Jean\Desktop\Periodo atual\IC\Entrega orthofinder\código\Etapa 2\fun-20.tab.txt")
cog_20_def_tab = pd.read_table(r"C:\Users\Jean\Desktop\Periodo atual\IC\Entrega orthofinder\código\Etapa 2\cog-20.def.tab.txt",encoding='ISO-8859-1')


merge_cog_universal_fasta = pd.merge(df_cog_ortologos_universais, data_proteina, on = 'Protein_ID', how = 'left')


dataframe_resultante = pd.merge(merge_cog_universal_fasta,cog_20_def_tab, on='COG_ID',how = 'left' )
dataframe_final = pd.merge(dataframe_resultante, fun_20_tab, on='COG_FUNC',how = 'left' )


'''
#criacao arquivo contendo todas informações dos objeto do cog
dataframe_final.to_csv(r"C:\Users\Jean\Desktop\Periodo atual\IC\Entrega orthofinder\código\RESULTADOS FINAIS\dataframe_cog_completo_ou.csv",index=False)

#criacao arquivo contendo apenas as sequencias dos cogs dos O.U
#drop columns de merge_cog_universal afim de obter apenas a sequencia,id proteina para por no orthofinder


dataframe_sequencia_cog_ou = pd.DataFrame()

dataframe_sequencia_cog_ou = merge_cog_universal_fasta.drop(
                           ['Gene_ID',
                           'NCBI_Ass_ID',
                           'Protein_length',
                           'COG_footprint_coordinates',
                           'COG_footprint_length',
                           'reserved',
                           'COG_member_class',
                           'PSI-BLAST_score',
                           'PSI-BLAST_evalue',
                           'COG_profile_length',
                           'Protein_footprint_coordinates'
                           ],axis=1)


def dataframe_to_fasta(df, fasta_file):
    records =[]
    with open(fasta_file, 'w') as fasta_file:
        for index, row in df.iterrows():
            record = SeqRecord(Seq(row['Sequencia']), id=row['Protein_ID'],description=row['COG_ID'])
           records.append(record)
        SeqIO.write(records,fasta_file,"fasta")
            


dataframe_to_fasta(dataframe_sequencia_cog_ou, 'cog_ou.fasta')
'''

#separando os hits dos orthogroups 

'''
df_ortogroup_final_mansoni = pd.read_table(r"C:\Users\Jean\Desktop\Periodo atual\IC\Entrega orthofinder\Resultado final\OrtologosUniversais_Mansoni\Orthogroups\Orthogroups.GeneCount.tsv")
df_ortogroup_final_todos = pd.read_table(r"C:\Users\Jean\Desktop\Periodo atual\IC\Entrega orthofinder\Resultado final\Ortofinder_todos\Orthogroups\Orthogroups.GeneCount.tsv")


df_ortogroups_result_final_mansoni = pd.DataFrame(
    df_ortogroup_final_mansoni.loc[
        (df_ortogroup_final_mansoni['inal'] > 0) & (df_ortogroup_final_mansoni['protein_mansoni'] > 0)
        ])

df_ortogroups_result_todos_mansoni = pd.DataFrame(
    df_ortogroup_final_todos.loc[
            (df_ortogroup_final_todos['protein_mansoni'] > 0) &
            (
            (df_ortogroup_final_todos['inal'] > 0)|
            (df_ortogroup_final_todos['protein_droso'] > 0)|
            (df_ortogroup_final_todos['protein_elegans'] > 0)|
            (df_ortogroup_final_todos['protein_musculus'] > 0)
            )
        ])


df_proteinas_ortogroups_final_mansoni = pd.read_table(r"C:\Users\Jean\Desktop\Periodo atual\IC\Entrega orthofinder\Resultado final\OrtologosUniversais_Mansoni\Orthogroups\Orthogroups.tsv")
df_proteinas_ortogroups_todos_mansoni = pd.read_table(r"C:\Users\Jean\Desktop\Periodo atual\IC\Entrega orthofinder\Resultado final\Ortofinder_todos\Orthogroups\Orthogroups.tsv")
#rename
df_proteinas_ortogroups_final_mansoni.rename(columns={"inal":"proteins_final_ortogroup",
                                                      "protein_mansoni":"proteins_mansoni_ortogroup"},
                                             inplace= True)

df_proteinas_ortogroups_todos_mansoni.rename(columns={"inal":"proteins_final_ortogroup",
                                                      "protein_droso":"proteins_droso_ortogroup",
                                                      "protein_elegans":"proteins_elegans_ortogroup",
                                                      "protein_mansoni":"proteins_mansoni_ortogroup",
                                                      "protein_musculus":"proteins_musculus_ortogroup"},
                                             inplace= True)

#resultaddo final contendo a sigla das proteinas contidas em cada ortogroup
df_resultante_merge_ortogroups_proteins_final_mansoni = pd.merge(df_ortogroups_result_final_mansoni, df_proteinas_ortogroups_final_mansoni, on = 'Orthogroup', how = 'left')
df_resultante_merge_ortogroups_proteins_todos_mansoni = pd.merge(df_ortogroups_result_todos_mansoni, df_proteinas_ortogroups_todos_mansoni, on = 'Orthogroup', how = 'left')

#criação arquivos
df_resultante_merge_ortogroups_proteins_final_mansoni.to_csv(r"C:\Users\Jean\Desktop\Periodo atual\IC\Entrega orthofinder\HITS OU COM MANSONI\proteinas_ortogroups_hit_ou_mansoni.tsv",
                                                             sep="\t",index=False)
df_resultante_merge_ortogroups_proteins_todos_mansoni.to_csv(r"C:\Users\Jean\Desktop\Periodo atual\IC\Entrega orthofinder\HITS OU COM MANSONI\proteinas_ortogroups_hit_todos_mansoni.tsv",
                                                             sep="\t",index=False)
'''
